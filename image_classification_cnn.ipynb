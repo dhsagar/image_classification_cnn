{
  "nbformat": 4,
  "nbformat_minor": 0,
  "metadata": {
    "colab": {
      "name": "image_classification_cnn.ipynb",
      "provenance": [],
      "collapsed_sections": [],
      "toc_visible": true
    },
    "kernelspec": {
      "name": "python3",
      "display_name": "Python 3"
    },
    "language_info": {
      "name": "python"
    }
  },
  "cells": [
    {
      "cell_type": "code",
      "metadata": {
        "id": "5zs5XoEWzK4t"
      },
      "source": [
        "#necessary import\n",
        "import tensorflow as tf\n",
        "from tensorflow.keras import datasets, layers, models\n",
        "import matplotlib.pyplot as plt\n",
        "import numpy as np"
      ],
      "execution_count": 40,
      "outputs": []
    },
    {
      "cell_type": "code",
      "metadata": {
        "id": "yncSZiGSzW3g"
      },
      "source": [
        "#loading dataset\n",
        "#here we use tensorflow's cifar dataset for image classification\n",
        "(x_train, y_train), (x_test, y_test) = datasets.cifar10.load_data()\n"
      ],
      "execution_count": 41,
      "outputs": []
    },
    {
      "cell_type": "code",
      "metadata": {
        "colab": {
          "base_uri": "https://localhost:8080/"
        },
        "id": "DXLPTKbf1vtg",
        "outputId": "79e7ee1e-40fc-41a8-91dd-c1331bfb8a5b"
      },
      "source": [
        "#check the shape of traning dataset\n",
        "x_train.shape"
      ],
      "execution_count": 42,
      "outputs": [
        {
          "output_type": "execute_result",
          "data": {
            "text/plain": [
              "(50000, 32, 32, 3)"
            ]
          },
          "metadata": {
            "tags": []
          },
          "execution_count": 42
        }
      ]
    },
    {
      "cell_type": "code",
      "metadata": {
        "colab": {
          "base_uri": "https://localhost:8080/"
        },
        "id": "1cIblfsV17Xn",
        "outputId": "7c5ab8a0-9de7-45d3-c356-d2abef4b30b5"
      },
      "source": [
        "#check the shape of test dataset\n",
        "x_test.shape"
      ],
      "execution_count": 43,
      "outputs": [
        {
          "output_type": "execute_result",
          "data": {
            "text/plain": [
              "(10000, 32, 32, 3)"
            ]
          },
          "metadata": {
            "tags": []
          },
          "execution_count": 43
        }
      ]
    },
    {
      "cell_type": "code",
      "metadata": {
        "colab": {
          "base_uri": "https://localhost:8080/",
          "height": 283
        },
        "id": "Dlj0at032Gi2",
        "outputId": "6856a055-d357-42da-afc9-6cf5b5a10bd4"
      },
      "source": [
        "#show a single image from the trainign dataset\n",
        "plt.imshow(x_train[0])"
      ],
      "execution_count": 44,
      "outputs": [
        {
          "output_type": "execute_result",
          "data": {
            "text/plain": [
              "<matplotlib.image.AxesImage at 0x7f5fedd9d4d0>"
            ]
          },
          "metadata": {
            "tags": []
          },
          "execution_count": 44
        },
        {
          "output_type": "display_data",
          "data": {
            "image/png": "[encoded data removed]",
            "text/plain": [
              "<Figure size 432x288 with 1 Axes>"
            ]
          },
          "metadata": {
            "tags": [],
            "needs_background": "light"
          }
        }
      ]
    },
    {
      "cell_type": "code",
      "metadata": {
        "colab": {
          "base_uri": "https://localhost:8080/"
        },
        "id": "Z6uChDgf4Ild",
        "outputId": "a805e2a4-10df-40e1-ac49-f123f9656c62"
      },
      "source": [
        "y_train[:5]"
      ],
      "execution_count": 45,
      "outputs": [
        {
          "output_type": "execute_result",
          "data": {
            "text/plain": [
              "array([[6],\n",
              "       [9],\n",
              "       [9],\n",
              "       [4],\n",
              "       [1]], dtype=uint8)"
            ]
          },
          "metadata": {
            "tags": []
          },
          "execution_count": 45
        }
      ]
    },
    {
      "cell_type": "code",
      "metadata": {
        "colab": {
          "base_uri": "https://localhost:8080/"
        },
        "id": "4fNhuWjs4Oa-",
        "outputId": "ccffb179-10ce-4e3d-f372-0aa53bd71649"
      },
      "source": [
        "#reshape y_train\n",
        "y_train=y_train.reshape(-1,)\n",
        "y_train[:5]"
      ],
      "execution_count": 46,
      "outputs": [
        {
          "output_type": "execute_result",
          "data": {
            "text/plain": [
              "array([6, 9, 9, 4, 1], dtype=uint8)"
            ]
          },
          "metadata": {
            "tags": []
          },
          "execution_count": 46
        }
      ]
    },
    {
      "cell_type": "code",
      "metadata": {
        "id": "ME5MhIP94yvl"
      },
      "source": [
        "#there are 10 classes in the dataset\n",
        "classes= [\"airplae\", \"automobile\", \"bird\", \"cat\", \"deer\", \"dog\", \"frog\", \"horse\", \"ship\", \"truck\"]"
      ],
      "execution_count": 47,
      "outputs": []
    },
    {
      "cell_type": "code",
      "metadata": {
        "id": "YpTj_pjx5qfh"
      },
      "source": [
        "#define a function to show the image with its class name from the training dataset\n",
        "def show_sample(X, y, index):\n",
        "  plt.figure(figsize=(15,2)) #reducing the image size for clear imshow\n",
        "  plt.imshow(X[index])\n",
        "  plt.xlabel('ClasseName: '+classes[y[index]])"
      ],
      "execution_count": 100,
      "outputs": []
    },
    {
      "cell_type": "code",
      "metadata": {
        "colab": {
          "base_uri": "https://localhost:8080/",
          "height": 173
        },
        "id": "H77KDkkF7ZZZ",
        "outputId": "f62c2e73-030f-44f4-8b0e-0e9881777f3a"
      },
      "source": [
        "#show a sample from training images\n",
        "show_sample(x_train, y_train, 11)"
      ],
      "execution_count": 101,
      "outputs": [
        {
          "output_type": "display_data",
          "data": {
            "image/png": "[encoded data removed]",
            "text/plain": [
              "<Figure size 1080x144 with 1 Axes>"
            ]
          },
          "metadata": {
            "tags": [],
            "needs_background": "light"
          }
        }
      ]
    },
    {
      "cell_type": "code",
      "metadata": {
        "id": "nZJlVr9v7nxm"
      },
      "source": [
        "# normalize the values of x_train and x_test \n",
        "# since the values are in the range of 0-255\n",
        "# devide each elemnet by 255 to normalize to a range of 0-1\n",
        "x_train = x_train/255\n",
        "x_test = x_test/255\n"
      ],
      "execution_count": 50,
      "outputs": []
    },
    {
      "cell_type": "code",
      "metadata": {
        "id": "Qr_i4SGTEn1x"
      },
      "source": [
        "# creating the cnn model\n",
        "cnn_model = models.Sequential([\n",
        "                         #first set of conv+pooling with 32 filters of size 3x3\n",
        "                         layers.Conv2D(filters=32, kernel_size= (3,3), activation='relu', input_shape= (32,32,3)),\n",
        "                         layers.MaxPool2D(2,2),\n",
        "                         #second set of conv+pooling with 32 filters of size 3x3\n",
        "                         layers.Conv2D(filters=32, kernel_size= (3,3), activation='relu'), \n",
        "                         layers.MaxPool2D(2,2),\n",
        "\n",
        "                         #flat after after conv+pooling\n",
        "                         layers.Flatten(),\n",
        "                         #dense layer with 64 neurons/units and relu activation function\n",
        "                         layers.Dense(64, activation='relu'),\n",
        "\n",
        "                         #last/output dense layer with 10 neurons/units since there are 10 y_train classes\n",
        "                         #activation function is softmax for probality distribution\n",
        "                         layers.Dense(10, activation='softmax')                    \n",
        "                         ])"
      ],
      "execution_count": 57,
      "outputs": []
    },
    {
      "cell_type": "code",
      "metadata": {
        "id": "7qn0vmGiMgF4"
      },
      "source": [
        "#add optimizer(adam) and loss function to cnn model\n",
        "cnn_model.compile(optimizer='adam', loss='sparse_categorical_crossentropy', metrics='accuracy')\n"
      ],
      "execution_count": 58,
      "outputs": []
    },
    {
      "cell_type": "code",
      "metadata": {
        "colab": {
          "base_uri": "https://localhost:8080/"
        },
        "id": "SPKUgSIAN0Fo",
        "outputId": "27528772-4533-4e74-c8bb-da8eff7d8d62"
      },
      "source": [
        "#train/fit the model with training data x_train,y_train\n",
        "cnn_model.fit(x_train, y_train, epochs=10) "
      ],
      "execution_count": 59,
      "outputs": [
        {
          "output_type": "stream",
          "text": [
            "Epoch 1/10\n",
            "1563/1563 [==============================] - 55s 35ms/step - loss: 1.5315 - accuracy: 0.4516\n",
            "Epoch 2/10\n",
            "1563/1563 [==============================] - 54s 35ms/step - loss: 1.2128 - accuracy: 0.5735\n",
            "Epoch 3/10\n",
            "1563/1563 [==============================] - 54s 34ms/step - loss: 1.0886 - accuracy: 0.6184\n",
            "Epoch 4/10\n",
            "1563/1563 [==============================] - 53s 34ms/step - loss: 1.0071 - accuracy: 0.6474\n",
            "Epoch 5/10\n",
            "1563/1563 [==============================] - 53s 34ms/step - loss: 0.9543 - accuracy: 0.6670\n",
            "Epoch 6/10\n",
            "1563/1563 [==============================] - 53s 34ms/step - loss: 0.9020 - accuracy: 0.6844\n",
            "Epoch 7/10\n",
            "1563/1563 [==============================] - 53s 34ms/step - loss: 0.8617 - accuracy: 0.6992\n",
            "Epoch 8/10\n",
            "1563/1563 [==============================] - 53s 34ms/step - loss: 0.8236 - accuracy: 0.7111\n",
            "Epoch 9/10\n",
            "1563/1563 [==============================] - 53s 34ms/step - loss: 0.7919 - accuracy: 0.7226\n",
            "Epoch 10/10\n",
            "1563/1563 [==============================] - 53s 34ms/step - loss: 0.7618 - accuracy: 0.7333\n"
          ],
          "name": "stdout"
        },
        {
          "output_type": "execute_result",
          "data": {
            "text/plain": [
              "<tensorflow.python.keras.callbacks.History at 0x7f5feabce750>"
            ]
          },
          "metadata": {
            "tags": []
          },
          "execution_count": 59
        }
      ]
    },
    {
      "cell_type": "code",
      "metadata": {
        "colab": {
          "base_uri": "https://localhost:8080/"
        },
        "id": "Ljzo0zZZO9fQ",
        "outputId": "abdeee93-a79d-46c5-c672-a0969d482792"
      },
      "source": [
        "#save the model after training is done \n",
        "cnn_model.save('image_classification_cnn.model')"
      ],
      "execution_count": 60,
      "outputs": [
        {
          "output_type": "stream",
          "text": [
            "INFO:tensorflow:Assets written to: image_classification_cnn.model/assets\n"
          ],
          "name": "stdout"
        }
      ]
    },
    {
      "cell_type": "code",
      "metadata": {
        "id": "-U0DHnODRKc2"
      },
      "source": [
        "#load the pretrained model model.compile(optimizer='adam', loss='sparse_categorical_crossentropy', metrics='accuracy')\n",
        "trained_cnn_model = models.load_model('image_classification_cnn.model')"
      ],
      "execution_count": 62,
      "outputs": []
    },
    {
      "cell_type": "code",
      "metadata": {
        "id": "F76EZOdpSyJK"
      },
      "source": [
        "#reshape the test data same as done above for the train sample\n",
        "#reshape y_test\n",
        "y_test=y_test.reshape(-1,)"
      ],
      "execution_count": 65,
      "outputs": []
    },
    {
      "cell_type": "code",
      "metadata": {
        "colab": {
          "base_uri": "https://localhost:8080/",
          "height": 190
        },
        "id": "FICTH1juRyJs",
        "outputId": "529b69c4-65a7-4ff1-acaf-8a81f4b84bc7"
      },
      "source": [
        "#show an image with its classname from test samples using show_sample() function defined above \n",
        "print('Class Index: '+str(y_test[10]))\n",
        "show_sample(x_test, y_test, 10) "
      ],
      "execution_count": 102,
      "outputs": [
        {
          "output_type": "stream",
          "text": [
            "Class Index: 0\n"
          ],
          "name": "stdout"
        },
        {
          "output_type": "display_data",
          "data": {
            "image/png": "[encoded data removed]",
            "text/plain": [
              "<Figure size 1080x144 with 1 Axes>"
            ]
          },
          "metadata": {
            "tags": [],
            "needs_background": "light"
          }
        }
      ]
    },
    {
      "cell_type": "markdown",
      "metadata": {
        "id": "LP0l5yTwYHFl"
      },
      "source": [
        "In the image sample ClassName is 'airplane' and ClassIndex is 0"
      ]
    },
    {
      "cell_type": "code",
      "metadata": {
        "id": "v0mRYEwiYPWO"
      },
      "source": [
        "#use trained_cnn_model to predict the t_test\n",
        "predictions = trained_cnn_model.predict([x_test])"
      ],
      "execution_count": 104,
      "outputs": []
    },
    {
      "cell_type": "code",
      "metadata": {
        "colab": {
          "base_uri": "https://localhost:8080/"
        },
        "id": "QasxS0aAY0Sc",
        "outputId": "d06e6caa-9557-4e32-ecee-6b3ae34c9492"
      },
      "source": [
        "type(predictions)"
      ],
      "execution_count": 106,
      "outputs": [
        {
          "output_type": "execute_result",
          "data": {
            "text/plain": [
              "numpy.ndarray"
            ]
          },
          "metadata": {
            "tags": []
          },
          "execution_count": 106
        }
      ]
    },
    {
      "cell_type": "markdown",
      "metadata": {
        "id": "BUISDZytZR4c"
      },
      "source": [
        "predictions is numpy array containing the predicted y_test values for the x_test samples"
      ]
    },
    {
      "cell_type": "code",
      "metadata": {
        "colab": {
          "base_uri": "https://localhost:8080/"
        },
        "id": "7wu6vIrhZE_U",
        "outputId": "48e0bf90-2977-45fb-fee0-db02531f8988"
      },
      "source": [
        "# Check the y value(class_index) prediction for the index 10 of x_test which lies in predictions[10]\n",
        "print('ClassIndex for sample in x_test[10]:'+str(np.argmax(predictions[10])))\n",
        "classindex= int(np.argmax(predictions[10]))\n",
        "print('ClassName: '+classes[classindex])\n",
        "\n"
      ],
      "execution_count": 130,
      "outputs": [
        {
          "output_type": "stream",
          "text": [
            "ClassIndex for sample in x_test[10]:0\n",
            "ClassName: airplae\n"
          ],
          "name": "stdout"
        }
      ]
    },
    {
      "cell_type": "code",
      "metadata": {
        "colab": {
          "base_uri": "https://localhost:8080/"
        },
        "id": "2n-S_5zHb8jd",
        "outputId": "0df8b6bb-dc55-4c7e-f659-68622865951e"
      },
      "source": [
        "#evaluate overall performance of the cnn_model\n",
        "(validation_loss, validation_accuracy) = trained_cnn_model.evaluate(x_test, y_test)\n",
        "print('Loss: '+ str(validation_loss))\n",
        "print('accuracy: '+ str(validation_accuracy))"
      ],
      "execution_count": 132,
      "outputs": [
        {
          "output_type": "stream",
          "text": [
            "313/313 [==============================] - 3s 11ms/step - loss: 0.9418 - accuracy: 0.6815\n",
            "Loss: 0.9417755603790283\n",
            "accuracy: 0.6815000176429749\n"
          ],
          "name": "stdout"
        }
      ]
    },
    {
      "cell_type": "code",
      "metadata": {
        "id": "63zqpSnyeoEX"
      },
      "source": [
        ""
      ],
      "execution_count": null,
      "outputs": []
    }
  ]
}